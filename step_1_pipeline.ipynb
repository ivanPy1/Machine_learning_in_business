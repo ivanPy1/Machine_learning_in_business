{
 "cells": [
  {
   "cell_type": "markdown",
   "id": "9b136dc6",
   "metadata": {},
   "source": [
    "# Курсовой проект по циклу \"Машинное обучение в бизнесе\""
   ]
  },
  {
   "cell_type": "markdown",
   "id": "d85e0570",
   "metadata": {},
   "source": [
    "## Прогнозирование рака легких "
   ]
  },
  {
   "cell_type": "markdown",
   "id": "454b1de5",
   "metadata": {},
   "source": [
    "датасет: https://www.kaggle.com/datasets/nancyalaswad90/lung-cancer"
   ]
  },
  {
   "cell_type": "markdown",
   "id": "26550687",
   "metadata": {},
   "source": [
    "legend:\n",
    "\n",
    "1. Gender: M(male), F(female) \n",
    "2. Age: Age of the patient \n",
    "3. Smoking: YES=2 , NO=1. \n",
    "4. Yellow fingers: YES=2 , NO=1. \n",
    "5. Anxiety: YES=2 , NO=1. \n",
    "6. Peer_pressure: YES=2 , NO=1. \n",
    "7. Chronic Disease: YES=2 , NO=1. \n",
    "8. Fatigue: YES=2 , NO=1. \n",
    "9. Allergy: YES=2 , NO=1. \n",
    "10. Wheezing: YES=2 , NO=1. \n",
    "11. Alcohol: YES=2 , NO=1. \n",
    "12. Coughing: YES=2 , NO=1. \n",
    "13. Shortness of Breath: YES=2 , NO=1. \n",
    "14. Swallowing Difficulty: YES=2 , NO=1. \n",
    "15. Chest pain: YES=2 , NO=1. \n",
    "16. Lung Cancer: YES , NO. - tareget"
   ]
  },
  {
   "cell_type": "markdown",
   "id": "19833ffc",
   "metadata": {},
   "source": [
    "имортируем необходимые бибилотеки и модули"
   ]
  },
  {
   "cell_type": "code",
   "execution_count": 1,
   "id": "569e34b6",
   "metadata": {},
   "outputs": [],
   "source": [
    "import pandas as pd\n",
    "import numpy as np\n",
    "\n",
    "import dill\n",
    "\n",
    "\n",
    "from sklearn.model_selection import train_test_split\n",
    "from sklearn.pipeline import Pipeline, FeatureUnion\n",
    "from sklearn.base import BaseEstimator, TransformerMixin\n",
    "from sklearn.model_selection import cross_val_score, train_test_split, GridSearchCV \n",
    "\n",
    "# from sklearn.ensemble import RandomForestClassifier\n",
    "\n",
    "from sklearn.ensemble import GradientBoostingClassifier\n",
    "\n",
    "from sklearn.metrics import f1_score, roc_auc_score, precision_score, classification_report, precision_recall_curve, confusion_matrix, log_loss, roc_curve\n",
    "\n",
    "import itertools\n",
    "\n",
    "import seaborn as sns\n",
    "import matplotlib.pyplot as plt\n",
    "\n",
    "import warnings\n",
    "warnings.filterwarnings(\"ignore\")"
   ]
  },
  {
   "cell_type": "code",
   "execution_count": 2,
   "id": "d57e83b5",
   "metadata": {},
   "outputs": [
    {
     "data": {
      "text/html": [
       "<div>\n",
       "<style scoped>\n",
       "    .dataframe tbody tr th:only-of-type {\n",
       "        vertical-align: middle;\n",
       "    }\n",
       "\n",
       "    .dataframe tbody tr th {\n",
       "        vertical-align: top;\n",
       "    }\n",
       "\n",
       "    .dataframe thead th {\n",
       "        text-align: right;\n",
       "    }\n",
       "</style>\n",
       "<table border=\"1\" class=\"dataframe\">\n",
       "  <thead>\n",
       "    <tr style=\"text-align: right;\">\n",
       "      <th></th>\n",
       "      <th>GENDER</th>\n",
       "      <th>AGE</th>\n",
       "      <th>SMOKING</th>\n",
       "      <th>YELLOW_FINGERS</th>\n",
       "      <th>ANXIETY</th>\n",
       "      <th>PEER_PRESSURE</th>\n",
       "      <th>CHRONIC DISEASE</th>\n",
       "      <th>FATIGUE</th>\n",
       "      <th>ALLERGY</th>\n",
       "      <th>WHEEZING</th>\n",
       "      <th>ALCOHOL CONSUMING</th>\n",
       "      <th>COUGHING</th>\n",
       "      <th>SHORTNESS OF BREATH</th>\n",
       "      <th>SWALLOWING DIFFICULTY</th>\n",
       "      <th>CHEST PAIN</th>\n",
       "      <th>LUNG_CANCER</th>\n",
       "    </tr>\n",
       "  </thead>\n",
       "  <tbody>\n",
       "    <tr>\n",
       "      <th>0</th>\n",
       "      <td>M</td>\n",
       "      <td>69</td>\n",
       "      <td>1</td>\n",
       "      <td>2</td>\n",
       "      <td>2</td>\n",
       "      <td>1</td>\n",
       "      <td>1</td>\n",
       "      <td>2</td>\n",
       "      <td>1</td>\n",
       "      <td>2</td>\n",
       "      <td>2</td>\n",
       "      <td>2</td>\n",
       "      <td>2</td>\n",
       "      <td>2</td>\n",
       "      <td>2</td>\n",
       "      <td>YES</td>\n",
       "    </tr>\n",
       "    <tr>\n",
       "      <th>1</th>\n",
       "      <td>M</td>\n",
       "      <td>74</td>\n",
       "      <td>2</td>\n",
       "      <td>1</td>\n",
       "      <td>1</td>\n",
       "      <td>1</td>\n",
       "      <td>2</td>\n",
       "      <td>2</td>\n",
       "      <td>2</td>\n",
       "      <td>1</td>\n",
       "      <td>1</td>\n",
       "      <td>1</td>\n",
       "      <td>2</td>\n",
       "      <td>2</td>\n",
       "      <td>2</td>\n",
       "      <td>YES</td>\n",
       "    </tr>\n",
       "    <tr>\n",
       "      <th>2</th>\n",
       "      <td>F</td>\n",
       "      <td>59</td>\n",
       "      <td>1</td>\n",
       "      <td>1</td>\n",
       "      <td>1</td>\n",
       "      <td>2</td>\n",
       "      <td>1</td>\n",
       "      <td>2</td>\n",
       "      <td>1</td>\n",
       "      <td>2</td>\n",
       "      <td>1</td>\n",
       "      <td>2</td>\n",
       "      <td>2</td>\n",
       "      <td>1</td>\n",
       "      <td>2</td>\n",
       "      <td>NO</td>\n",
       "    </tr>\n",
       "    <tr>\n",
       "      <th>3</th>\n",
       "      <td>M</td>\n",
       "      <td>63</td>\n",
       "      <td>2</td>\n",
       "      <td>2</td>\n",
       "      <td>2</td>\n",
       "      <td>1</td>\n",
       "      <td>1</td>\n",
       "      <td>1</td>\n",
       "      <td>1</td>\n",
       "      <td>1</td>\n",
       "      <td>2</td>\n",
       "      <td>1</td>\n",
       "      <td>1</td>\n",
       "      <td>2</td>\n",
       "      <td>2</td>\n",
       "      <td>NO</td>\n",
       "    </tr>\n",
       "    <tr>\n",
       "      <th>4</th>\n",
       "      <td>F</td>\n",
       "      <td>63</td>\n",
       "      <td>1</td>\n",
       "      <td>2</td>\n",
       "      <td>1</td>\n",
       "      <td>1</td>\n",
       "      <td>1</td>\n",
       "      <td>1</td>\n",
       "      <td>1</td>\n",
       "      <td>2</td>\n",
       "      <td>1</td>\n",
       "      <td>2</td>\n",
       "      <td>2</td>\n",
       "      <td>1</td>\n",
       "      <td>1</td>\n",
       "      <td>NO</td>\n",
       "    </tr>\n",
       "  </tbody>\n",
       "</table>\n",
       "</div>"
      ],
      "text/plain": [
       "  GENDER  AGE  SMOKING  YELLOW_FINGERS  ANXIETY  PEER_PRESSURE  \\\n",
       "0      M   69        1               2        2              1   \n",
       "1      M   74        2               1        1              1   \n",
       "2      F   59        1               1        1              2   \n",
       "3      M   63        2               2        2              1   \n",
       "4      F   63        1               2        1              1   \n",
       "\n",
       "   CHRONIC DISEASE  FATIGUE   ALLERGY   WHEEZING  ALCOHOL CONSUMING  COUGHING  \\\n",
       "0                1         2         1         2                  2         2   \n",
       "1                2         2         2         1                  1         1   \n",
       "2                1         2         1         2                  1         2   \n",
       "3                1         1         1         1                  2         1   \n",
       "4                1         1         1         2                  1         2   \n",
       "\n",
       "   SHORTNESS OF BREATH  SWALLOWING DIFFICULTY  CHEST PAIN LUNG_CANCER  \n",
       "0                    2                      2           2         YES  \n",
       "1                    2                      2           2         YES  \n",
       "2                    2                      1           2          NO  \n",
       "3                    1                      2           2          NO  \n",
       "4                    2                      1           1          NO  "
      ]
     },
     "execution_count": 2,
     "metadata": {},
     "output_type": "execute_result"
    }
   ],
   "source": [
    "dataset = pd.read_csv('survey_lung_cancer.csv')\n",
    "dataset.head(5)"
   ]
  },
  {
   "cell_type": "code",
   "execution_count": 3,
   "id": "31e3bd22",
   "metadata": {},
   "outputs": [
    {
     "name": "stdout",
     "output_type": "stream",
     "text": [
      "<class 'pandas.core.frame.DataFrame'>\n",
      "RangeIndex: 309 entries, 0 to 308\n",
      "Data columns (total 16 columns):\n",
      " #   Column                 Non-Null Count  Dtype \n",
      "---  ------                 --------------  ----- \n",
      " 0   GENDER                 309 non-null    object\n",
      " 1   AGE                    309 non-null    int64 \n",
      " 2   SMOKING                309 non-null    int64 \n",
      " 3   YELLOW_FINGERS         309 non-null    int64 \n",
      " 4   ANXIETY                309 non-null    int64 \n",
      " 5   PEER_PRESSURE          309 non-null    int64 \n",
      " 6   CHRONIC DISEASE        309 non-null    int64 \n",
      " 7   FATIGUE                309 non-null    int64 \n",
      " 8   ALLERGY                309 non-null    int64 \n",
      " 9   WHEEZING               309 non-null    int64 \n",
      " 10  ALCOHOL CONSUMING      309 non-null    int64 \n",
      " 11  COUGHING               309 non-null    int64 \n",
      " 12  SHORTNESS OF BREATH    309 non-null    int64 \n",
      " 13  SWALLOWING DIFFICULTY  309 non-null    int64 \n",
      " 14  CHEST PAIN             309 non-null    int64 \n",
      " 15  LUNG_CANCER            309 non-null    object\n",
      "dtypes: int64(14), object(2)\n",
      "memory usage: 38.8+ KB\n"
     ]
    }
   ],
   "source": [
    "dataset.info()"
   ]
  },
  {
   "cell_type": "markdown",
   "id": "9ca219da",
   "metadata": {},
   "source": [
    "проверим наличие пропусков"
   ]
  },
  {
   "cell_type": "code",
   "execution_count": 4,
   "id": "6ffbd504",
   "metadata": {},
   "outputs": [
    {
     "data": {
      "text/plain": [
       "GENDER                   0\n",
       "AGE                      0\n",
       "SMOKING                  0\n",
       "YELLOW_FINGERS           0\n",
       "ANXIETY                  0\n",
       "PEER_PRESSURE            0\n",
       "CHRONIC DISEASE          0\n",
       "FATIGUE                  0\n",
       "ALLERGY                  0\n",
       "WHEEZING                 0\n",
       "ALCOHOL CONSUMING        0\n",
       "COUGHING                 0\n",
       "SHORTNESS OF BREATH      0\n",
       "SWALLOWING DIFFICULTY    0\n",
       "CHEST PAIN               0\n",
       "LUNG_CANCER              0\n",
       "dtype: int64"
      ]
     },
     "execution_count": 4,
     "metadata": {},
     "output_type": "execute_result"
    }
   ],
   "source": [
    "dataset.isnull().sum()"
   ]
  },
  {
   "cell_type": "markdown",
   "id": "b2576dbe",
   "metadata": {},
   "source": [
    "соотношение целевой перменной"
   ]
  },
  {
   "cell_type": "code",
   "execution_count": 5,
   "id": "a20aceb3",
   "metadata": {},
   "outputs": [
    {
     "data": {
      "text/plain": [
       "YES    270\n",
       "NO      39\n",
       "Name: LUNG_CANCER, dtype: int64"
      ]
     },
     "execution_count": 5,
     "metadata": {},
     "output_type": "execute_result"
    }
   ],
   "source": [
    "dataset['LUNG_CANCER'].value_counts()"
   ]
  },
  {
   "cell_type": "code",
   "execution_count": 6,
   "id": "d7abcc1f",
   "metadata": {},
   "outputs": [
    {
     "name": "stdout",
     "output_type": "stream",
     "text": [
      "Вывод: \n",
      "Датасет содержит 309 строк (наблюдений), 16 столбцов, в том числе: 15 признаков и 1 - целевая переменная.\n",
      "\n",
      "Тип данных int64 встречается у 14 столбцов: ['AGE', 'SMOKING', 'YELLOW_FINGERS', 'ANXIETY', 'PEER_PRESSURE', 'CHRONIC DISEASE', 'FATIGUE ', 'ALLERGY ', 'WHEEZING', 'ALCOHOL CONSUMING', 'COUGHING', 'SHORTNESS OF BREATH', 'SWALLOWING DIFFICULTY', 'CHEST PAIN'],\n",
      "\n",
      "object - у 2: ['GENDER', 'LUNG_CANCER'].\n",
      "\n",
      "Пропуски в датасете отсутствуют.\n",
      "\n",
      "Соотношение классов целевой переменной не сбалансировано\n"
     ]
    }
   ],
   "source": [
    "numeric_cols=dataset.select_dtypes(include=np.number).columns.tolist()\n",
    "categorial_cols=dataset.select_dtypes(object).columns.tolist()\n",
    "\n",
    "print(f'Вывод: \\nДатасет содержит 309 строк (наблюдений), 16 столбцов, в том числе: 15 признаков и 1 - целевая переменная.\\n\\n' \n",
    "      f'Тип данных int64 встречается у {len(numeric_cols)} столбцов: {numeric_cols},\\n\\nobject - у {len(categorial_cols)}: {categorial_cols}.\\n\\n'\n",
    "      f'Пропуски в датасете отсутствуют.\\n\\n'\n",
    "     f'Соотношение классов целевой переменной не сбалансировано')"
   ]
  },
  {
   "cell_type": "markdown",
   "id": "95d10add",
   "metadata": {},
   "source": [
    "## EDA (exploratory data analysis)"
   ]
  },
  {
   "cell_type": "markdown",
   "id": "8c36c260",
   "metadata": {},
   "source": [
    "Категориальные признаки"
   ]
  },
  {
   "cell_type": "code",
   "execution_count": 7,
   "id": "dca4f1e4",
   "metadata": {},
   "outputs": [
    {
     "name": "stdout",
     "output_type": "stream",
     "text": [
      "2 категориальных признака\n",
      "['GENDER', 'LUNG_CANCER']\n",
      "\n",
      "GENDER, имеет 2 уникальных значения:\n",
      "['M', 'F']\n",
      "\n",
      "LUNG_CANCER, имеет 2 уникальных значения:\n",
      "['YES', 'NO']\n",
      "\n"
     ]
    }
   ],
   "source": [
    "print(f'{len(categorial_cols)} категориальных признака\\n{categorial_cols}\\n')\n",
    "\n",
    "for i in categorial_cols:\n",
    "    unique_no = dataset[i].nunique()\n",
    "    unique_name = dataset[i].unique().tolist()\n",
    "    print(f'{i}, имеет {unique_no} уникальных значения:\\n{unique_name}\\n')"
   ]
  },
  {
   "cell_type": "markdown",
   "id": "26d36c71",
   "metadata": {},
   "source": [
    "## Feature engineering"
   ]
  },
  {
   "cell_type": "markdown",
   "id": "18827f7f",
   "metadata": {},
   "source": [
    "переименуем столбцы"
   ]
  },
  {
   "cell_type": "code",
   "execution_count": 8,
   "id": "56dad615",
   "metadata": {},
   "outputs": [],
   "source": [
    "dataset.columns = ['GENDER', 'AGE', 'SMOKING','YELLOW_FINGERS', 'ANXIETY', 'PEER_PRESSURE', 'CHRONIC_DISEASE', 'FATIGUE',\n",
    "                   'ALLERGY', 'WHEEZING', 'ALCOHOL_CONSUMING', 'COUGHING', 'SHORTNESS_OF_BREATH', \n",
    "                   'SWALLOWING_DIFFICULTY', 'CHEST_PAIN', 'LUNG_CANCER']"
   ]
  },
  {
   "cell_type": "markdown",
   "id": "4403a277",
   "metadata": {},
   "source": [
    "изменим значения полей, содержащих категориальные признаки на бинарные (исходные: YES = 2 и NO = 1 на YES = 1 и NO = 0)\n",
    "\n",
    "поля: 'SMOKING','YELLOW_FINGERS', 'ANXIETY', 'PEER_PRESSURE', 'CHRONIC DISEASE', 'FATIGUE', 'ALLERGY',\n",
    "'WHEEZING', 'ALCOHOL CONSUMING', 'COUGHING', 'SHORTNESS OF BREATH', 'SWALLOWING DIFFICULTY', 'CHEST PAIN' "
   ]
  },
  {
   "cell_type": "code",
   "execution_count": 9,
   "id": "4cc34d88",
   "metadata": {},
   "outputs": [],
   "source": [
    "list_feat_names = ['SMOKING','YELLOW_FINGERS', 'ANXIETY', 'PEER_PRESSURE', 'CHRONIC_DISEASE', 'FATIGUE',\n",
    "                   'ALLERGY', 'WHEEZING', 'ALCOHOL_CONSUMING', 'COUGHING', 'SHORTNESS_OF_BREATH', \n",
    "                   'SWALLOWING_DIFFICULTY', 'CHEST_PAIN']\n",
    "\n",
    "\n",
    "for name in list_feat_names:\n",
    "    dataset[name] = dataset[name].replace([2, 1],[1, 0])"
   ]
  },
  {
   "cell_type": "code",
   "execution_count": 10,
   "id": "7bcbf608",
   "metadata": {},
   "outputs": [],
   "source": [
    "dataset['GENDER'] = dataset['GENDER'].map({'M': 1, 'F':0})"
   ]
  },
  {
   "cell_type": "code",
   "execution_count": 11,
   "id": "f4055907",
   "metadata": {},
   "outputs": [],
   "source": [
    "dataset['LUNG_CANCER'] = dataset['LUNG_CANCER'].map({'YES': 1, 'NO':0})"
   ]
  },
  {
   "cell_type": "code",
   "execution_count": 12,
   "id": "57ebc30c",
   "metadata": {},
   "outputs": [],
   "source": [
    "row_40 = dataset[dataset['AGE'] <= 40 ].index\n",
    "dataset = dataset.drop(dataset.index[row_40])"
   ]
  },
  {
   "cell_type": "code",
   "execution_count": 13,
   "id": "401f78ba",
   "metadata": {},
   "outputs": [],
   "source": [
    "row_80 = dataset[dataset['AGE'] > 80].index\n",
    "dataset = dataset.drop(dataset.index[row_80])"
   ]
  },
  {
   "cell_type": "code",
   "execution_count": 14,
   "id": "6f3ab59a",
   "metadata": {},
   "outputs": [
    {
     "data": {
      "text/html": [
       "<div>\n",
       "<style scoped>\n",
       "    .dataframe tbody tr th:only-of-type {\n",
       "        vertical-align: middle;\n",
       "    }\n",
       "\n",
       "    .dataframe tbody tr th {\n",
       "        vertical-align: top;\n",
       "    }\n",
       "\n",
       "    .dataframe thead th {\n",
       "        text-align: right;\n",
       "    }\n",
       "</style>\n",
       "<table border=\"1\" class=\"dataframe\">\n",
       "  <thead>\n",
       "    <tr style=\"text-align: right;\">\n",
       "      <th></th>\n",
       "      <th>GENDER</th>\n",
       "      <th>AGE</th>\n",
       "      <th>SMOKING</th>\n",
       "      <th>YELLOW_FINGERS</th>\n",
       "      <th>ANXIETY</th>\n",
       "      <th>PEER_PRESSURE</th>\n",
       "      <th>CHRONIC_DISEASE</th>\n",
       "      <th>FATIGUE</th>\n",
       "      <th>ALLERGY</th>\n",
       "      <th>WHEEZING</th>\n",
       "      <th>ALCOHOL_CONSUMING</th>\n",
       "      <th>COUGHING</th>\n",
       "      <th>SHORTNESS_OF_BREATH</th>\n",
       "      <th>SWALLOWING_DIFFICULTY</th>\n",
       "      <th>CHEST_PAIN</th>\n",
       "      <th>LUNG_CANCER</th>\n",
       "    </tr>\n",
       "  </thead>\n",
       "  <tbody>\n",
       "    <tr>\n",
       "      <th>0</th>\n",
       "      <td>1</td>\n",
       "      <td>69</td>\n",
       "      <td>0</td>\n",
       "      <td>1</td>\n",
       "      <td>1</td>\n",
       "      <td>0</td>\n",
       "      <td>0</td>\n",
       "      <td>1</td>\n",
       "      <td>0</td>\n",
       "      <td>1</td>\n",
       "      <td>1</td>\n",
       "      <td>1</td>\n",
       "      <td>1</td>\n",
       "      <td>1</td>\n",
       "      <td>1</td>\n",
       "      <td>1</td>\n",
       "    </tr>\n",
       "    <tr>\n",
       "      <th>1</th>\n",
       "      <td>1</td>\n",
       "      <td>74</td>\n",
       "      <td>1</td>\n",
       "      <td>0</td>\n",
       "      <td>0</td>\n",
       "      <td>0</td>\n",
       "      <td>1</td>\n",
       "      <td>1</td>\n",
       "      <td>1</td>\n",
       "      <td>0</td>\n",
       "      <td>0</td>\n",
       "      <td>0</td>\n",
       "      <td>1</td>\n",
       "      <td>1</td>\n",
       "      <td>1</td>\n",
       "      <td>1</td>\n",
       "    </tr>\n",
       "    <tr>\n",
       "      <th>2</th>\n",
       "      <td>0</td>\n",
       "      <td>59</td>\n",
       "      <td>0</td>\n",
       "      <td>0</td>\n",
       "      <td>0</td>\n",
       "      <td>1</td>\n",
       "      <td>0</td>\n",
       "      <td>1</td>\n",
       "      <td>0</td>\n",
       "      <td>1</td>\n",
       "      <td>0</td>\n",
       "      <td>1</td>\n",
       "      <td>1</td>\n",
       "      <td>0</td>\n",
       "      <td>1</td>\n",
       "      <td>0</td>\n",
       "    </tr>\n",
       "  </tbody>\n",
       "</table>\n",
       "</div>"
      ],
      "text/plain": [
       "   GENDER  AGE  SMOKING  YELLOW_FINGERS  ANXIETY  PEER_PRESSURE  \\\n",
       "0       1   69        0               1        1              0   \n",
       "1       1   74        1               0        0              0   \n",
       "2       0   59        0               0        0              1   \n",
       "\n",
       "   CHRONIC_DISEASE  FATIGUE  ALLERGY  WHEEZING  ALCOHOL_CONSUMING  COUGHING  \\\n",
       "0                0        1        0         1                  1         1   \n",
       "1                1        1        1         0                  0         0   \n",
       "2                0        1        0         1                  0         1   \n",
       "\n",
       "   SHORTNESS_OF_BREATH  SWALLOWING_DIFFICULTY  CHEST_PAIN  LUNG_CANCER  \n",
       "0                    1                      1           1            1  \n",
       "1                    1                      1           1            1  \n",
       "2                    1                      0           1            0  "
      ]
     },
     "execution_count": 14,
     "metadata": {},
     "output_type": "execute_result"
    }
   ],
   "source": [
    "dataset.head(3)"
   ]
  },
  {
   "cell_type": "code",
   "execution_count": 15,
   "id": "00aa2765",
   "metadata": {},
   "outputs": [
    {
     "name": "stdout",
     "output_type": "stream",
     "text": [
      "<class 'pandas.core.frame.DataFrame'>\n",
      "Int64Index: 303 entries, 0 to 308\n",
      "Data columns (total 16 columns):\n",
      " #   Column                 Non-Null Count  Dtype\n",
      "---  ------                 --------------  -----\n",
      " 0   GENDER                 303 non-null    int64\n",
      " 1   AGE                    303 non-null    int64\n",
      " 2   SMOKING                303 non-null    int64\n",
      " 3   YELLOW_FINGERS         303 non-null    int64\n",
      " 4   ANXIETY                303 non-null    int64\n",
      " 5   PEER_PRESSURE          303 non-null    int64\n",
      " 6   CHRONIC_DISEASE        303 non-null    int64\n",
      " 7   FATIGUE                303 non-null    int64\n",
      " 8   ALLERGY                303 non-null    int64\n",
      " 9   WHEEZING               303 non-null    int64\n",
      " 10  ALCOHOL_CONSUMING      303 non-null    int64\n",
      " 11  COUGHING               303 non-null    int64\n",
      " 12  SHORTNESS_OF_BREATH    303 non-null    int64\n",
      " 13  SWALLOWING_DIFFICULTY  303 non-null    int64\n",
      " 14  CHEST_PAIN             303 non-null    int64\n",
      " 15  LUNG_CANCER            303 non-null    int64\n",
      "dtypes: int64(16)\n",
      "memory usage: 40.2 KB\n"
     ]
    }
   ],
   "source": [
    "dataset.info()"
   ]
  },
  {
   "cell_type": "markdown",
   "id": "9a96e1da",
   "metadata": {},
   "source": [
    "разделим датасет на тренировочную и тестовую выборку "
   ]
  },
  {
   "cell_type": "code",
   "execution_count": 16,
   "id": "1b07ae80",
   "metadata": {},
   "outputs": [],
   "source": [
    "features = ['GENDER', 'AGE', 'SMOKING','YELLOW_FINGERS', 'ANXIETY', 'PEER_PRESSURE', 'CHRONIC_DISEASE', 'FATIGUE',\n",
    "                   'ALLERGY', 'WHEEZING', 'ALCOHOL_CONSUMING', 'COUGHING', 'SHORTNESS_OF_BREATH', \n",
    "                   'SWALLOWING_DIFFICULTY', 'CHEST_PAIN']\n",
    "target = 'LUNG_CANCER'\n",
    "\n",
    "\n",
    "X_train, X_test, y_train, y_test = train_test_split(dataset[features], dataset[target], test_size=0.33, random_state=42,\n",
    "                                                   stratify=dataset[target])\n",
    "\n",
    "#save test\n",
    "X_test.to_csv(\"X_test.csv\", index=None)\n",
    "y_test.to_csv(\"y_test.csv\", index=None)\n",
    "#save train\n",
    "X_train.to_csv(\"X_train.csv\", index=None)\n",
    "y_train.to_csv(\"y_train.csv\", index=None)"
   ]
  },
  {
   "cell_type": "code",
   "execution_count": 17,
   "id": "3faebd27",
   "metadata": {},
   "outputs": [
    {
     "data": {
      "text/html": [
       "<div>\n",
       "<style scoped>\n",
       "    .dataframe tbody tr th:only-of-type {\n",
       "        vertical-align: middle;\n",
       "    }\n",
       "\n",
       "    .dataframe tbody tr th {\n",
       "        vertical-align: top;\n",
       "    }\n",
       "\n",
       "    .dataframe thead th {\n",
       "        text-align: right;\n",
       "    }\n",
       "</style>\n",
       "<table border=\"1\" class=\"dataframe\">\n",
       "  <thead>\n",
       "    <tr style=\"text-align: right;\">\n",
       "      <th></th>\n",
       "      <th>GENDER_0</th>\n",
       "      <th>GENDER_1</th>\n",
       "    </tr>\n",
       "  </thead>\n",
       "  <tbody>\n",
       "    <tr>\n",
       "      <th>147</th>\n",
       "      <td>1</td>\n",
       "      <td>0</td>\n",
       "    </tr>\n",
       "    <tr>\n",
       "      <th>214</th>\n",
       "      <td>1</td>\n",
       "      <td>0</td>\n",
       "    </tr>\n",
       "    <tr>\n",
       "      <th>79</th>\n",
       "      <td>1</td>\n",
       "      <td>0</td>\n",
       "    </tr>\n",
       "    <tr>\n",
       "      <th>210</th>\n",
       "      <td>0</td>\n",
       "      <td>1</td>\n",
       "    </tr>\n",
       "    <tr>\n",
       "      <th>109</th>\n",
       "      <td>0</td>\n",
       "      <td>1</td>\n",
       "    </tr>\n",
       "    <tr>\n",
       "      <th>...</th>\n",
       "      <td>...</td>\n",
       "      <td>...</td>\n",
       "    </tr>\n",
       "    <tr>\n",
       "      <th>274</th>\n",
       "      <td>0</td>\n",
       "      <td>1</td>\n",
       "    </tr>\n",
       "    <tr>\n",
       "      <th>95</th>\n",
       "      <td>0</td>\n",
       "      <td>1</td>\n",
       "    </tr>\n",
       "    <tr>\n",
       "      <th>3</th>\n",
       "      <td>0</td>\n",
       "      <td>1</td>\n",
       "    </tr>\n",
       "    <tr>\n",
       "      <th>227</th>\n",
       "      <td>0</td>\n",
       "      <td>1</td>\n",
       "    </tr>\n",
       "    <tr>\n",
       "      <th>307</th>\n",
       "      <td>0</td>\n",
       "      <td>1</td>\n",
       "    </tr>\n",
       "  </tbody>\n",
       "</table>\n",
       "<p>203 rows × 2 columns</p>\n",
       "</div>"
      ],
      "text/plain": [
       "     GENDER_0  GENDER_1\n",
       "147         1         0\n",
       "214         1         0\n",
       "79          1         0\n",
       "210         0         1\n",
       "109         0         1\n",
       "..        ...       ...\n",
       "274         0         1\n",
       "95          0         1\n",
       "3           0         1\n",
       "227         0         1\n",
       "307         0         1\n",
       "\n",
       "[203 rows x 2 columns]"
      ]
     },
     "execution_count": 17,
     "metadata": {},
     "output_type": "execute_result"
    }
   ],
   "source": [
    "class ColumnSelector(BaseEstimator, TransformerMixin):\n",
    "    \"\"\"\n",
    "    Transformer to select a single column from the data frame to perform additional transformations on\n",
    "    \"\"\"\n",
    "    def __init__(self, key):\n",
    "        self.key = key\n",
    "\n",
    "    def fit(self, X, y=None):\n",
    "        return self\n",
    "\n",
    "    def transform(self, X):\n",
    "        return X[self.key]\n",
    "    \n",
    "class NumberSelector(BaseEstimator, TransformerMixin):\n",
    "    \"\"\"\n",
    "    Transformer to select a single column from the data frame to perform additional transformations on\n",
    "    Use on numeric columns in the data\n",
    "    \"\"\"\n",
    "    def __init__(self, key):\n",
    "        self.key = key\n",
    "\n",
    "    def fit(self, X, y=None):\n",
    "        return self\n",
    "\n",
    "    def transform(self, X):\n",
    "        return X[[self.key]]\n",
    "    \n",
    "class OHEEncoder(BaseEstimator, TransformerMixin):\n",
    "    def __init__(self, key):\n",
    "        self.key = key\n",
    "        self.columns = []\n",
    "\n",
    "    def fit(self, X, y=None):\n",
    "        self.columns = [col for col in pd.get_dummies(X, prefix=self.key).columns]\n",
    "        return self\n",
    "\n",
    "    def transform(self, X):\n",
    "        X = pd.get_dummies(X, prefix=self.key)\n",
    "        test_columns = [col for col in X.columns]\n",
    "        for col_ in test_columns:\n",
    "            if col_ not in self.columns:\n",
    "                X[col_] = 0\n",
    "        return X[self.columns]\n",
    "\n",
    "gender = Pipeline([\n",
    "                ('selector', ColumnSelector(key='GENDER')),\n",
    "                ('ohe', OHEEncoder(key='GENDER'))\n",
    "            ])\n",
    "\n",
    "gender.fit_transform(X_train)"
   ]
  },
  {
   "cell_type": "code",
   "execution_count": 18,
   "id": "f7df5909",
   "metadata": {},
   "outputs": [
    {
     "data": {
      "text/plain": [
       "array([[56,  0,  0, ...,  0,  1,  0],\n",
       "       [61,  1,  1, ...,  1,  1,  0],\n",
       "       [73,  1,  1, ...,  1,  1,  0],\n",
       "       ...,\n",
       "       [63,  1,  1, ...,  1,  0,  1],\n",
       "       [71,  0,  1, ...,  0,  0,  1],\n",
       "       [67,  1,  0, ...,  1,  0,  1]], dtype=int64)"
      ]
     },
     "execution_count": 18,
     "metadata": {},
     "output_type": "execute_result"
    }
   ],
   "source": [
    "number_features = Pipeline([\n",
    "                ('selector', ColumnSelector(key=['AGE', 'SMOKING','YELLOW_FINGERS', \n",
    "                                                 'ANXIETY', 'PEER_PRESSURE', \n",
    "                                                 'CHRONIC_DISEASE', 'FATIGUE',\n",
    "                                                 'ALLERGY', 'WHEEZING', \n",
    "                                                 'ALCOHOL_CONSUMING', \n",
    "                                                 'COUGHING', 'SHORTNESS_OF_BREATH',\n",
    "                                                 'SWALLOWING_DIFFICULTY', 'CHEST_PAIN']))])\n",
    "feats = FeatureUnion([('continuos_features', number_features),\n",
    "                      ('gender', gender)]) \n",
    "feature_processing = Pipeline([('feats', feats)])\n",
    "feature_processing.fit_transform(X_train)"
   ]
  },
  {
   "cell_type": "code",
   "execution_count": 19,
   "id": "a2bf26e3",
   "metadata": {},
   "outputs": [
    {
     "name": "stdout",
     "output_type": "stream",
     "text": [
      "CPU times: total: 0 ns\n",
      "Wall time: 0 ns\n"
     ]
    }
   ],
   "source": [
    "%%time\n",
    "\n",
    "pipeline = Pipeline([\n",
    "    ('features', feats),\n",
    "#     ('classifier', RandomForestClassifier(random_state = 42)),\n",
    "    ('classifier', GradientBoostingClassifier(random_state = 42)),    \n",
    "])"
   ]
  },
  {
   "cell_type": "code",
   "execution_count": 20,
   "id": "1f0e0cdc",
   "metadata": {},
   "outputs": [
    {
     "name": "stdout",
     "output_type": "stream",
     "text": [
      "CV score is 0.8958333333333333+-0.1559828984233559\n"
     ]
    }
   ],
   "source": [
    "#запустим кросс-валидацию\n",
    "cv_scores = cross_val_score(pipeline, X_train, y_train, cv=16, scoring='roc_auc')\n",
    "cv_score = np.mean(cv_scores)\n",
    "cv_score_std = np.std(cv_scores)\n",
    "print('CV score is {}+-{}'.format(cv_score, cv_score_std))\n",
    "\n",
    "#обучим пайплайн на всем тренировочном датасете\n",
    "pipeline.fit(X_train, y_train)\n",
    "y_score = pipeline.predict_proba(X_test)[:, 1]\n",
    "\n"
   ]
  },
  {
   "cell_type": "markdown",
   "id": "026e648d",
   "metadata": {},
   "source": [
    "Посмотрим, как выглядит наш pipeline"
   ]
  },
  {
   "cell_type": "code",
   "execution_count": 21,
   "id": "61b00bb9",
   "metadata": {},
   "outputs": [
    {
     "data": {
      "text/plain": [
       "[('features',\n",
       "  FeatureUnion(transformer_list=[('continuos_features',\n",
       "                                  Pipeline(steps=[('selector',\n",
       "                                                   ColumnSelector(key=['AGE',\n",
       "                                                                       'SMOKING',\n",
       "                                                                       'YELLOW_FINGERS',\n",
       "                                                                       'ANXIETY',\n",
       "                                                                       'PEER_PRESSURE',\n",
       "                                                                       'CHRONIC_DISEASE',\n",
       "                                                                       'FATIGUE',\n",
       "                                                                       'ALLERGY',\n",
       "                                                                       'WHEEZING',\n",
       "                                                                       'ALCOHOL_CONSUMING',\n",
       "                                                                       'COUGHING',\n",
       "                                                                       'SHORTNESS_OF_BREATH',\n",
       "                                                                       'SWALLOWING_DIFFICULTY',\n",
       "                                                                       'CHEST_PAIN']))])),\n",
       "                                 ('gender',\n",
       "                                  Pipeline(steps=[('selector',\n",
       "                                                   ColumnSelector(key='GENDER')),\n",
       "                                                  ('ohe',\n",
       "                                                   OHEEncoder(key='GENDER'))]))])),\n",
       " ('classifier', GradientBoostingClassifier(random_state=42))]"
      ]
     },
     "execution_count": 21,
     "metadata": {},
     "output_type": "execute_result"
    }
   ],
   "source": [
    "pipeline.steps"
   ]
  },
  {
   "cell_type": "markdown",
   "id": "0f00682c",
   "metadata": {},
   "source": [
    "Сохраним модель (пайплайн)"
   ]
  },
  {
   "cell_type": "code",
   "execution_count": 22,
   "id": "b498930d",
   "metadata": {},
   "outputs": [],
   "source": [
    "with open(\"GBC_model.dill\", \"wb\") as f:\n",
    "    dill.dump(pipeline, f)"
   ]
  },
  {
   "cell_type": "code",
   "execution_count": null,
   "id": "d3274414",
   "metadata": {},
   "outputs": [],
   "source": []
  }
 ],
 "metadata": {
  "kernelspec": {
   "display_name": "Python 3 (ipykernel)",
   "language": "python",
   "name": "python3"
  },
  "language_info": {
   "codemirror_mode": {
    "name": "ipython",
    "version": 3
   },
   "file_extension": ".py",
   "mimetype": "text/x-python",
   "name": "python",
   "nbconvert_exporter": "python",
   "pygments_lexer": "ipython3",
   "version": "3.10.9"
  }
 },
 "nbformat": 4,
 "nbformat_minor": 5
}
