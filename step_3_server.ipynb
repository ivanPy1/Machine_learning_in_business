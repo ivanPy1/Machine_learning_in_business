{
 "cells": [
  {
   "cell_type": "markdown",
   "id": "152a90db",
   "metadata": {},
   "source": [
    "# Курсовой проект по циклу \"Машинное обучение в бизнесе\""
   ]
  },
  {
   "cell_type": "markdown",
   "id": "2f7965ca",
   "metadata": {},
   "source": [
    "## Прогнозирование рака легких "
   ]
  },
  {
   "cell_type": "code",
   "execution_count": 6,
   "id": "3d2b79da",
   "metadata": {},
   "outputs": [],
   "source": [
    "#from flask_ngrok import run_with_ngrok\n",
    "from flask import Flask, request, jsonify\n",
    "import pandas as pd\n",
    "\n",
    "import dill\n",
    "\n",
    "import warnings\n",
    "warnings.filterwarnings(\"ignore\")"
   ]
  },
  {
   "cell_type": "code",
   "execution_count": null,
   "id": "ca0d557f",
   "metadata": {},
   "outputs": [],
   "source": [
    "app = Flask(__name__)\n",
    "\n",
    "@app.route(\"/a\")\n",
    "def hello():\n",
    "    return \"Hello World!\"\n",
    "\n",
    "if __name__ == '__main__':\n",
    "    app.run()"
   ]
  },
  {
   "cell_type": "code",
   "execution_count": null,
   "id": "f7efb71c",
   "metadata": {},
   "outputs": [],
   "source": [
    "X_test = pd.read_csv(\"X_test.csv\")\n",
    "y_test = pd.read_csv(\"y_test.csv\")"
   ]
  },
  {
   "cell_type": "code",
   "execution_count": null,
   "id": "7a464399",
   "metadata": {},
   "outputs": [
    {
     "name": "stdout",
     "output_type": "stream",
     "text": [
      " * Serving Flask app '__main__'\n",
      " * Debug mode: off\n"
     ]
    },
    {
     "name": "stderr",
     "output_type": "stream",
     "text": [
      "WARNING: This is a development server. Do not use it in a production deployment. Use a production WSGI server instead.\n",
      " * Running on http://127.0.0.1:5000\n",
      "Press CTRL+C to quit\n"
     ]
    }
   ],
   "source": [
    "app = Flask(__name__)\n",
    "\n",
    "\n",
    "@app.route(\"/\", methods=[\"GET\"])\n",
    "def general():\n",
    "    return \"Welcome to prediction process\"\n",
    "\n",
    "@app.route('/predict', methods=['POST'])\n",
    "def predict():\n",
    "    data = {\"success\": False}\n",
    "\n",
    "    GENDER, AGE, SMOKING, YELLOW_FINGERS, ANXIETY, \n",
    "    PEER_PRESSURE, CHRONIC_DISEASE, FATIGUE, ALLERGY, WHEEZING, \n",
    "    ALCOHOL_CONSUMING, COUGHING, SHORTNESS_OF_BREATH, \n",
    "    SWALLOWING_DIFFICULTY, CHEST_PAIN = \"\", \"\", \"\", \"\", \"\", \"\", \"\", \"\", \"\", \"\", \"\", \"\", \"\", \"\", \"\"\n",
    "    \n",
    "    request_json = request.get_json()\n",
    "    \n",
    "    if request_json[\"GENDER\"]:\n",
    "        GENDER = request_json['GENDER']\n",
    "    \n",
    "    if request_json[\"AGE\"]:\n",
    "        AGE = request_json['AGE']\n",
    "                \n",
    "    if request_json[\"SMOKING\"]:\n",
    "        SMOKING = request_json['SMOKING']\n",
    "\n",
    "    if request_json[\"YELLOW_FINGERS\"]:\n",
    "        YELLOW_FINGERS = request_json['YELLOW_FINGERS']\n",
    "    \n",
    "    if request_json[\"ANXIETY\"]:\n",
    "        ANXIETY = request_json['ANXIETY']\n",
    "                \n",
    "    if request_json[\"PEER_PRESSURE\"]:\n",
    "        PEER_PRESSURE = request_json['PEER_PRESSURE']   \n",
    "    \n",
    "    if request_json[\"CHRONIC_DISEASE\"]:\n",
    "        CHRONIC_DISEASE = request_json['CHRONIC_DISEASE']\n",
    "    \n",
    "    if request_json[\"FATIGUE\"]:\n",
    "        FATIGUE = request_json['FATIGUE']\n",
    "                \n",
    "    if request_json[\"ALLERGY\"]:\n",
    "        ALLERGY = request_json['ALLERGY']\n",
    "        \n",
    "    if request_json[\"WHEEZING\"]:\n",
    "        WHEEZING = request_json['WHEEZING']\n",
    "    \n",
    "    if request_json[\"ALCOHOL_CONSUMING\"]:\n",
    "        ALCOHOL_CONSUMING = request_json['ALCOHOL_CONSUMING']\n",
    "                \n",
    "    if request_json[\"COUGHING\"]:\n",
    "        COUGHING = request_json['COUGHING']\n",
    "        \n",
    "    if request_json[\"SHORTNESS_OF_BREATH\"]:\n",
    "        SHORTNESS_OF_BREATH = request_json['SHORTNESS_OF_BREATH']\n",
    "    \n",
    "    if request_json[\"SWALLOWING_DIFFICULTY\"]:\n",
    "        SWALLOWING_DIFFICULTY = request_json['SWALLOWING_DIFFICULTY']\n",
    "                \n",
    "    if request_json[\"CHEST_PAIN\"]:\n",
    "        CHEST_PAIN = request_json['CHEST_PAIN']\n",
    "        \n",
    "    print(description)  \n",
    "    preds = model.predict_proba(pd.DataFrame({'GENDER': [GENDER],\n",
    "                                             'AGE': [AGE],\n",
    "                                             'SMOKING': [SMOKING],\n",
    "                                             'YELLOW_FINGERS': [YELLOW_FINGERS],\n",
    "                                             'ANXIETY': [ANXIETY],\n",
    "                                             'PEER_PRESSURE': [PEER_PRESSURE],\n",
    "                                             'CHRONIC_DISEASE': [CHRONIC_DISEASE],\n",
    "                                             'FATIGUE': [FATIGUE],\n",
    "                                             'ALLERGY': [ALLERGY],\n",
    "                                             'WHEEZING': [WHEEZING],\n",
    "                                             'ALCOHOL_CONSUMING': [ALCOHOL_CONSUMING],\n",
    "                                             'COUGHING': [COUGHING],\n",
    "                                             'SHORTNESS_OF_BREATH': [SHORTNESS_OF_BREATH],\n",
    "                                             'SWALLOWING_DIFFICULTY': [SWALLOWING_DIFFICULTY],\n",
    "                                             'CHEST_PAIN': [CHEST_PAIN]}))\n",
    "        \n",
    "\n",
    "    data[\"predictions\"] = preds[:, 1][0]\n",
    "    data[\"description\"] = description\n",
    "    data[\"success\"] = True\n",
    "    print('OK')\n",
    "\n",
    "    return jsonify(data)\n",
    "\n",
    "\n",
    "if __name__ == '__main__':\n",
    "    app.run()"
   ]
  },
  {
   "cell_type": "code",
   "execution_count": null,
   "id": "0a448097",
   "metadata": {},
   "outputs": [],
   "source": []
  }
 ],
 "metadata": {
  "kernelspec": {
   "display_name": "Python 3 (ipykernel)",
   "language": "python",
   "name": "python3"
  },
  "language_info": {
   "codemirror_mode": {
    "name": "ipython",
    "version": 3
   },
   "file_extension": ".py",
   "mimetype": "text/x-python",
   "name": "python",
   "nbconvert_exporter": "python",
   "pygments_lexer": "ipython3",
   "version": "3.10.9"
  }
 },
 "nbformat": 4,
 "nbformat_minor": 5
}
